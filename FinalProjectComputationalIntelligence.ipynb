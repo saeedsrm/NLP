{
  "nbformat": 4,
  "nbformat_minor": 0,
  "metadata": {
    "colab": {
      "name": "FinalProjectComputationalIntelligence.ipynb",
      "provenance": [],
      "authorship_tag": "ABX9TyPBgov6qla0bR7N012zVjst",
      "include_colab_link": true
    },
    "kernelspec": {
      "name": "python3",
      "display_name": "Python 3"
    },
    "language_info": {
      "name": "python"
    }
  },
  "cells": [
    {
      "cell_type": "markdown",
      "metadata": {
        "id": "view-in-github",
        "colab_type": "text"
      },
      "source": [
        "<a href=\"https://colab.research.google.com/github/saeedsrm/NLP/blob/main/FinalProjectComputationalIntelligence.ipynb\" target=\"_parent\"><img src=\"https://colab.research.google.com/assets/colab-badge.svg\" alt=\"Open In Colab\"/></a>"
      ]
    },
    {
      "cell_type": "markdown",
      "source": [
        "Connect to Google Drive to load model of Word2Vec"
      ],
      "metadata": {
        "id": "QIY0b-Ww9nGL"
      }
    },
    {
      "cell_type": "code",
      "source": [
        "from google.colab import drive\n",
        "drive.mount('/content/drive')"
      ],
      "metadata": {
        "colab": {
          "base_uri": "https://localhost:8080/"
        },
        "id": "AcRfhLn69g3s",
        "outputId": "fbca7054-dd53-4dd6-ea8a-a3d94f3b4aa1"
      },
      "execution_count": null,
      "outputs": [
        {
          "output_type": "stream",
          "name": "stdout",
          "text": [
            "Drive already mounted at /content/drive; to attempt to forcibly remount, call drive.mount(\"/content/drive\", force_remount=True).\n"
          ]
        }
      ]
    },
    {
      "cell_type": "code",
      "source": [
        "\n",
        "from gensim.models import KeyedVectors\n",
        "\n",
        "# Load vectors directly from the file\n",
        "model = KeyedVectors.load_word2vec_format('/content/drive/MyDrive/modelWord2Vec/GoogleNews-vectors-negative300.bin.gz', binary=True)\n",
        "\n",
        "# Access vectors for specific words with a keyed lookup:\n",
        "vector = model['easy']\n",
        "# see the shape of the vector (300,)\n",
        "vector.shape\n",
        "\n",
        "# Processing sentences is not as simple as with Spacy:\n",
        "vectors = [model[x] for x in \"This is some text I am processing with Spacy\".split(' ')]"
      ],
      "metadata": {
        "id": "i3woDK-U9zvu"
      },
      "execution_count": null,
      "outputs": []
    }
  ]
}